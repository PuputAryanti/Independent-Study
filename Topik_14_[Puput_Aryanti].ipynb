{
  "cells": [
    {
      "cell_type": "markdown",
      "metadata": {
        "id": "2bI51kkTCpmx"
      },
      "source": [
        "# Exploratory Data Analysis"
      ]
    },
    {
      "cell_type": "markdown",
      "metadata": {
        "id": "9az53zaoDdvc"
      },
      "source": [
        "## DATA UNDERSTANDING"
      ]
    },
    {
      "cell_type": "code",
      "execution_count": null,
      "metadata": {
        "colab": {
          "background_save": true
        },
        "id": "jBaghIw0BUqc"
      },
      "outputs": [],
      "source": [
        "import pandas as pd\n",
        "import seaborn as sns\n",
        "import matplotlib.pyplot as plt"
      ]
    },
    {
      "cell_type": "code",
      "source": [
        "df = pd.read_csv('Mall_Customers.csv')"
      ],
      "metadata": {
        "id": "mjRgh38yQJjh"
      },
      "execution_count": null,
      "outputs": []
    },
    {
      "cell_type": "code",
      "execution_count": null,
      "metadata": {
        "colab": {
          "background_save": true
        },
        "id": "amjWYPeFB5xC"
      },
      "outputs": [],
      "source": [
        "#menampilkan 5 baris pertama dari dataset\n",
        "df.head()"
      ]
    },
    {
      "cell_type": "markdown",
      "metadata": {
        "id": "VroIJz2gu7Sf"
      },
      "source": [
        "Dataset ini merupakan data customer mall yang terdiri dari 5 variabel yaitu customerID, Gender, Age, Annual Income (pendapatan tahunan customer dalam satuan ribu dollar), dan Spending Score (skor yang ditentukan pihak mall berdasarkan sifat dan kebiasaan belanja customer)"
      ]
    },
    {
      "cell_type": "code",
      "execution_count": null,
      "metadata": {
        "colab": {
          "background_save": true
        },
        "id": "DnVluJHxB7Jq"
      },
      "outputs": [],
      "source": [
        "df.shape"
      ]
    },
    {
      "cell_type": "markdown",
      "metadata": {
        "id": "PCl-ynaTvxUg"
      },
      "source": [
        "Dataset ini terdiri dari 200 baris dan 5 kolom"
      ]
    },
    {
      "cell_type": "code",
      "execution_count": null,
      "metadata": {
        "colab": {
          "background_save": true
        },
        "id": "2zAeLJs8C1c3"
      },
      "outputs": [],
      "source": [
        "#menampilkan nama seluruh kolom\n",
        "df.columns"
      ]
    },
    {
      "cell_type": "code",
      "execution_count": null,
      "metadata": {
        "colab": {
          "background_save": true
        },
        "id": "WRVTSAjwC5nv"
      },
      "outputs": [],
      "source": [
        "df.describe().transpose()"
      ]
    },
    {
      "cell_type": "markdown",
      "metadata": {
        "id": "tu76Nu-ZvwSj"
      },
      "source": [
        "Syntax di atas menampilkan jumlah, rata-rata, standar deviasi, nilai minimal, maksimal, kuartil 1, 2, dan 3 untuk setiap variabel numerik. Pada variabel annual income, terdapat 200 customer dengan rata-rata pendapatan tahunan sebesar 60.56 ribu dollar, pendapatan tahunan terbesar 137 ribu dollar, dan pendapatan tahunan terkecil 15 ribu dollar."
      ]
    },
    {
      "cell_type": "code",
      "execution_count": null,
      "metadata": {
        "colab": {
          "background_save": true
        },
        "id": "t8P9O9WZC8dy"
      },
      "outputs": [],
      "source": [
        "#menampilkan value unik pada variabel Gender\n",
        "df['Gender'].unique()"
      ]
    },
    {
      "cell_type": "code",
      "execution_count": null,
      "metadata": {
        "colab": {
          "background_save": true
        },
        "id": "fkhmnew6DEa_"
      },
      "outputs": [],
      "source": [
        "#menampilkan jumlah value unik pada variabel Spending Score (1-100)\n",
        "df['Spending Score (1-100)'].nunique()"
      ]
    },
    {
      "cell_type": "markdown",
      "metadata": {
        "id": "lelfFHHXDkmn"
      },
      "source": [
        "## DATA CLEANING"
      ]
    },
    {
      "cell_type": "markdown",
      "metadata": {
        "id": "839r-HjjDm5w"
      },
      "source": [
        "### 1. Hapus duplikat data dan variabel yang tidak relevan dengan analisis"
      ]
    },
    {
      "cell_type": "code",
      "execution_count": null,
      "metadata": {
        "colab": {
          "background_save": true
        },
        "id": "8k3NxeoPDXYH"
      },
      "outputs": [],
      "source": [
        "#cek duplikat\n",
        "df[df.duplicated()]"
      ]
    },
    {
      "cell_type": "markdown",
      "metadata": {
        "id": "KfmQLt_cxkC0"
      },
      "source": [
        "Dalam dataset ini tidak terdapat duplikat data"
      ]
    },
    {
      "cell_type": "code",
      "execution_count": null,
      "metadata": {
        "colab": {
          "background_save": true
        },
        "id": "i5znsVFFDwzE"
      },
      "outputs": [],
      "source": [
        "#drop irrelevant columns (yg tidak berkaitan dengan analisis)\n",
        "df = df.drop(columns=['CustomerID'])"
      ]
    },
    {
      "cell_type": "markdown",
      "metadata": {
        "id": "f9DyqcInyYT-"
      },
      "source": [
        "Variabel atau kolom customerID tidak diperlukan dalam analisis ini, maka kita bisa menghapusnya"
      ]
    },
    {
      "cell_type": "markdown",
      "metadata": {
        "id": "ii2kJ6HvD_SQ"
      },
      "source": [
        "### 2. Fix struktur data yang tidak konsisten dan error"
      ]
    },
    {
      "cell_type": "code",
      "execution_count": null,
      "metadata": {
        "colab": {
          "background_save": true
        },
        "id": "zCCD147KD3Ff"
      },
      "outputs": [],
      "source": [
        "df.dtypes"
      ]
    },
    {
      "cell_type": "markdown",
      "metadata": {
        "id": "IHwv_fclynXX"
      },
      "source": [
        "Setiap variabel sudah sesuai dengan type datanya, maka tidak ada yang perlu diubah."
      ]
    },
    {
      "cell_type": "markdown",
      "metadata": {
        "id": "s1C_mDQbGQc0"
      },
      "source": [
        "### Outlier Handling"
      ]
    },
    {
      "cell_type": "code",
      "execution_count": null,
      "metadata": {
        "colab": {
          "background_save": true
        },
        "id": "3O4YMGnFE3I4"
      },
      "outputs": [],
      "source": [
        "sns.boxplot(df['Age'])"
      ]
    },
    {
      "cell_type": "markdown",
      "metadata": {
        "id": "4gbQK2MIzQFD"
      },
      "source": [
        "Pada variabel Age tidak terdapat outlier"
      ]
    },
    {
      "cell_type": "code",
      "execution_count": null,
      "metadata": {
        "colab": {
          "background_save": true
        },
        "id": "8dLua8yoES9_"
      },
      "outputs": [],
      "source": [
        "sns.boxplot(df['Annual Income (k$)'])"
      ]
    },
    {
      "cell_type": "markdown",
      "metadata": {
        "id": "gobuUb04zVRI"
      },
      "source": [
        "Pada variabel Annual Income terdapat value yang di luar batas atas. Untuk mengetahuinya, kita perlu melakukan perhitungan manual."
      ]
    },
    {
      "cell_type": "code",
      "execution_count": null,
      "metadata": {
        "colab": {
          "background_save": true
        },
        "id": "b9YSX95aEaey"
      },
      "outputs": [],
      "source": [
        "#outlier Annual Income (k$)\n",
        "\n",
        "Q1_I = df['Annual Income (k$)'].quantile(0.25)\n",
        "Q3_I = df['Annual Income (k$)'].quantile(0.75)\n",
        "IQR_I = Q3_I - Q1_I\n",
        "lower_bound_I = Q1_I - 1.5*IQR_I\n",
        "upper_bound_I = Q3_I + 1.5*IQR_I\n",
        "\n",
        "outlier_I = df[df['Annual Income (k$)'] > upper_bound_I]\n",
        "outlier_I"
      ]
    },
    {
      "cell_type": "markdown",
      "metadata": {
        "id": "mxdRu4Laz_gU"
      },
      "source": [
        "Pada variabel Annual Income terdapat dua value yang diluar batas atas yaitu value ke 199 dan 200. Kedua value tersebut diduga merupakan outlier. Untuk mengetahuinya IQR tidak dikalikan dengan 1.5 melainkan dengan 4.5 lalu menghitung ulang batas atas."
      ]
    },
    {
      "cell_type": "code",
      "execution_count": null,
      "metadata": {
        "colab": {
          "background_save": true
        },
        "id": "jaGzAkGi58I1"
      },
      "outputs": [],
      "source": [
        "upper_bound_I = Q3_I + 4.5*IQR_I\n",
        "\n",
        "outlier_I = df[df['Annual Income (k$)'] > upper_bound_I]\n",
        "outlier_I"
      ]
    },
    {
      "cell_type": "markdown",
      "metadata": {
        "id": "rZxKYL8Z7V1M"
      },
      "source": [
        "Dari perhitungan di atas, maka tidak ada outlier pada variabel Annual Income."
      ]
    },
    {
      "cell_type": "code",
      "execution_count": null,
      "metadata": {
        "colab": {
          "background_save": true
        },
        "id": "sBAVz73ZGA-A"
      },
      "outputs": [],
      "source": [
        "sns.boxplot(df['Spending Score (1-100)'])"
      ]
    },
    {
      "cell_type": "markdown",
      "metadata": {
        "id": "r2MJarws0KeT"
      },
      "source": [
        "Pada variabel Spending Score tidak terdapat outlier."
      ]
    },
    {
      "cell_type": "markdown",
      "metadata": {
        "id": "mfCNrKw6GUhc"
      },
      "source": [
        "### 4. Missing Values Handling"
      ]
    },
    {
      "cell_type": "code",
      "execution_count": null,
      "metadata": {
        "colab": {
          "background_save": true
        },
        "id": "m7zleG5MGOPC"
      },
      "outputs": [],
      "source": [
        "df.isnull().sum()"
      ]
    },
    {
      "cell_type": "markdown",
      "metadata": {
        "id": "gCZ7Os-30PnZ"
      },
      "source": [
        "Dalam dataset ini tidak terdapat missing value."
      ]
    },
    {
      "cell_type": "markdown",
      "metadata": {
        "id": "DDbgT9UZGf27"
      },
      "source": [
        "## VISUALIZATION"
      ]
    },
    {
      "cell_type": "code",
      "execution_count": null,
      "metadata": {
        "colab": {
          "background_save": true
        },
        "id": "i669FVfYGZ93"
      },
      "outputs": [],
      "source": [
        "Male_count = df[df['Gender'] == 'Male']['Gender'].count()\n",
        "Female_count = df[df['Gender']=='Female']['Gender'].count()\n",
        "Gender_count = [Male_count, Female_count]\n",
        "Gender_count\n",
        "\n",
        "plt.pie(Gender_count, labels = [\"Male\", \"Female\"], autopct = '%1.1f%%')\n",
        "plt.title('Gender')"
      ]
    },
    {
      "cell_type": "markdown",
      "metadata": {
        "id": "EttFItgd0ap5"
      },
      "source": [
        "Dari piechart di atas, diketahui bahwa lebih banyak customer perempuan dibandingkan customer laki-laki. Jumlah customer perempuan sebanyak 56% atau 112 customer, dan jumlah customer laki-laki sebanyak 44% atau 88 customer."
      ]
    },
    {
      "cell_type": "code",
      "execution_count": null,
      "metadata": {
        "colab": {
          "background_save": true
        },
        "id": "9cjqIscMHO03"
      },
      "outputs": [],
      "source": [
        "sns.histplot(data= df, x='Annual Income (k$)', bins=20)"
      ]
    },
    {
      "cell_type": "markdown",
      "metadata": {
        "id": "MCNjA0gM0_bw"
      },
      "source": [
        "Dari histogram di atas, diketahui bahwa variabel Annual Income tidak berasal dari distribusi normal."
      ]
    },
    {
      "cell_type": "code",
      "execution_count": null,
      "metadata": {
        "colab": {
          "background_save": true
        },
        "id": "Wma9T4yCHbEa"
      },
      "outputs": [],
      "source": [
        "sns.boxplot(data=df,x='Spending Score (1-100)',y='Gender')"
      ]
    },
    {
      "cell_type": "markdown",
      "metadata": {
        "id": "BPD3lZc71abE"
      },
      "source": [
        "Dari kedua boxplot di atas, diketahui bahwa antara customer perempuan dan laki-laki tidak terdapat perbedaan signifikan mengenai spending score."
      ]
    },
    {
      "cell_type": "code",
      "execution_count": null,
      "metadata": {
        "colab": {
          "background_save": true
        },
        "id": "JRVQMQsu1r_g"
      },
      "outputs": [],
      "source": [
        "plt.scatter('Age', 'Spending Score (1-100)', data = df)"
      ]
    },
    {
      "cell_type": "code",
      "execution_count": null,
      "metadata": {
        "colab": {
          "background_save": true
        },
        "id": "tLnpGjCp2wPt"
      },
      "outputs": [],
      "source": [
        "plt.scatter('Age','Annual Income (k$)', data = df)"
      ]
    },
    {
      "cell_type": "code",
      "execution_count": null,
      "metadata": {
        "colab": {
          "background_save": true
        },
        "id": "urxMZMGx2pkr"
      },
      "outputs": [],
      "source": [
        "plt.scatter('Annual Income (k$)', 'Spending Score (1-100)', data = df)"
      ]
    },
    {
      "cell_type": "markdown",
      "metadata": {
        "id": "czQiHxMg23iG"
      },
      "source": [
        "Dari ketiga scatter plot di atas, menunjukkan bahwa dari ketiga variabel (Age, Annual Income, dan Spending Score) tidak berkorelasi/ berhubungan antara satu sama lain."
      ]
    },
    {
      "cell_type": "markdown",
      "metadata": {
        "id": "_ZY--GeTJVei"
      },
      "source": [
        "# CLUSTERING\n",
        "\n",
        "Analisis cluster digunakan untuk mengklasifikasi objek/pengamatan ke dalam kelompok homogen yang disebut cluster."
      ]
    },
    {
      "cell_type": "code",
      "execution_count": null,
      "metadata": {
        "id": "tGigbyra8o6b"
      },
      "outputs": [],
      "source": [
        "#Import library yang dibutuhkan\n",
        "\n",
        "from sklearn.cluster import KMeans"
      ]
    },
    {
      "cell_type": "code",
      "execution_count": null,
      "metadata": {
        "id": "3nZEmkUCW1t2"
      },
      "outputs": [],
      "source": [
        "dfcluster = df.drop(columns=['Gender'])"
      ]
    },
    {
      "cell_type": "markdown",
      "metadata": {
        "id": "FeV8FsBv8cE_"
      },
      "source": [
        "Variabel Gender tidak akan dilibatkan dalam analisis cluster, maka variabel tersebut didrop."
      ]
    },
    {
      "cell_type": "markdown",
      "metadata": {
        "id": "7Jpm53xbAjhg"
      },
      "source": [
        "## Model Cluster 1 (berdasarkan variabel Annual Income dan Spending Score)"
      ]
    },
    {
      "cell_type": "code",
      "execution_count": null,
      "metadata": {
        "colab": {
          "base_uri": "https://localhost:8080/",
          "height": 300
        },
        "id": "CbKEhhxlbsfz",
        "outputId": "47775909-3e9b-47c3-bd5f-d0703517c8c3"
      },
      "outputs": [
        {
          "data": {
            "text/plain": [
              "<Figure size 1152x576 with 0 Axes>"
            ]
          },
          "execution_count": 61,
          "metadata": {},
          "output_type": "execute_result"
        },
        {
          "data": {
            "image/png": "[encoded data removed]",
            "text/plain": [
              "<Figure size 432x288 with 1 Axes>"
            ]
          },
          "metadata": {},
          "output_type": "display_data"
        },
        {
          "data": {
            "text/plain": [
              "<Figure size 1152x576 with 0 Axes>"
            ]
          },
          "metadata": {},
          "output_type": "display_data"
        }
      ],
      "source": [
        "#Elbow Method\n",
        "#untuk mencari jumlah cluster optimal jika tidak diketahui akan dibagi berapa cluster\n",
        "\n",
        "dist = []\n",
        "K = range (1, 10)\n",
        "\n",
        "for i in K:\n",
        "  kmean = KMeans(n_clusters = i)\n",
        "  kmean.fit(dfcluster[['Annual Income (k$)', 'Spending Score (1-100)']])\n",
        "  dist.append(kmean.inertia_)\n",
        "\n",
        "plt.plot(K, dist)\n",
        "plt.figure(figsize = (16,8))"
      ]
    },
    {
      "cell_type": "markdown",
      "metadata": {
        "id": "5GhAF1NN8xOn"
      },
      "source": [
        "Untuk mengetahui berapa jumlah cluster optimal yang diperlukan, kita bisa menggunakan metode Elbow. Cari titik dimana garis mengalami patahan atau membentuk siku yaitu pada titik ke 3."
      ]
    },
    {
      "cell_type": "code",
      "execution_count": null,
      "metadata": {
        "colab": {
          "base_uri": "https://localhost:8080/"
        },
        "id": "ObG6cBmfWjR9",
        "outputId": "40f3b0b9-4eb0-4363-df99-16d68adc2d26"
      },
      "outputs": [
        {
          "name": "stdout",
          "output_type": "stream",
          "text": [
            "[0 0 0 0 0 0 0 0 0 0 0 0 0 0 0 0 0 0 0 0 0 0 0 0 0 0 0 0 0 0 0 0 0 0 0 0 0\n",
            " 0 0 0 0 0 0 0 0 0 0 0 0 0 0 0 0 0 0 0 0 0 0 0 0 0 0 0 0 0 0 0 0 0 0 0 0 0\n",
            " 0 0 0 0 0 0 0 0 0 0 0 0 0 0 0 0 0 0 0 0 0 0 0 0 0 0 0 0 0 0 0 0 0 0 0 0 0\n",
            " 0 0 0 0 0 0 0 0 0 0 0 0 1 2 1 2 1 2 1 2 1 2 1 2 1 2 1 2 1 2 1 2 1 2 1 2 1\n",
            " 2 1 2 1 2 1 2 1 2 1 2 1 2 1 2 1 2 1 2 1 2 1 2 1 2 1 2 1 2 1 2 1 2 1 2 1 2\n",
            " 1 2 1 2 1 2 1 2 1 2 1 2 1 2 1]\n"
          ]
        }
      ],
      "source": [
        "#buat model dengan jumlah cluster = 3\n",
        "\n",
        "model1 = KMeans(n_clusters=3)\n",
        "model1.fit(dfcluster[['Annual Income (k$)', 'Spending Score (1-100)']])\n",
        "print(model1.labels_)"
      ]
    },
    {
      "cell_type": "code",
      "execution_count": null,
      "metadata": {
        "colab": {
          "base_uri": "https://localhost:8080/",
          "height": 206
        },
        "id": "wTT0zVa9XEMn",
        "outputId": "07e2f64c-e4fd-4f24-84c1-c6d61785f7c5"
      },
      "outputs": [
        {
          "data": {
            "text/html": [
              "\n",
              "  <div id=\"df-dbf41a83-aa41-4658-a448-9392296a2e85\">\n",
              "    <div class=\"colab-df-container\">\n",
              "      <div>\n",
              "<style scoped>\n",
              "    .dataframe tbody tr th:only-of-type {\n",
              "        vertical-align: middle;\n",
              "    }\n",
              "\n",
              "    .dataframe tbody tr th {\n",
              "        vertical-align: top;\n",
              "    }\n",
              "\n",
              "    .dataframe thead th {\n",
              "        text-align: right;\n",
              "    }\n",
              "</style>\n",
              "<table border=\"1\" class=\"dataframe\">\n",
              "  <thead>\n",
              "    <tr style=\"text-align: right;\">\n",
              "      <th></th>\n",
              "      <th>Gender</th>\n",
              "      <th>Age</th>\n",
              "      <th>Annual Income (k$)</th>\n",
              "      <th>Spending Score (1-100)</th>\n",
              "      <th>Cluster1</th>\n",
              "    </tr>\n",
              "  </thead>\n",
              "  <tbody>\n",
              "    <tr>\n",
              "      <th>0</th>\n",
              "      <td>Male</td>\n",
              "      <td>19</td>\n",
              "      <td>15</td>\n",
              "      <td>39</td>\n",
              "      <td>0</td>\n",
              "    </tr>\n",
              "    <tr>\n",
              "      <th>1</th>\n",
              "      <td>Male</td>\n",
              "      <td>21</td>\n",
              "      <td>15</td>\n",
              "      <td>81</td>\n",
              "      <td>0</td>\n",
              "    </tr>\n",
              "    <tr>\n",
              "      <th>2</th>\n",
              "      <td>Female</td>\n",
              "      <td>20</td>\n",
              "      <td>16</td>\n",
              "      <td>6</td>\n",
              "      <td>0</td>\n",
              "    </tr>\n",
              "    <tr>\n",
              "      <th>3</th>\n",
              "      <td>Female</td>\n",
              "      <td>23</td>\n",
              "      <td>16</td>\n",
              "      <td>77</td>\n",
              "      <td>0</td>\n",
              "    </tr>\n",
              "    <tr>\n",
              "      <th>4</th>\n",
              "      <td>Female</td>\n",
              "      <td>31</td>\n",
              "      <td>17</td>\n",
              "      <td>40</td>\n",
              "      <td>0</td>\n",
              "    </tr>\n",
              "  </tbody>\n",
              "</table>\n",
              "</div>\n",
              "      <button class=\"colab-df-convert\" onclick=\"convertToInteractive('df-dbf41a83-aa41-4658-a448-9392296a2e85')\"\n",
              "              title=\"Convert this dataframe to an interactive table.\"\n",
              "              style=\"display:none;\">\n",
              "        \n",
              "  <svg xmlns=\"http://www.w3.org/2000/svg\" height=\"24px\"viewBox=\"0 0 24 24\"\n",
              "       width=\"24px\">\n",
              "    <path d=\"M0 0h24v24H0V0z\" fill=\"none\"/>\n",
              "    <path d=\"M18.56 5.44l.94 2.06.94-2.06 2.06-.94-2.06-.94-.94-2.06-.94 2.06-2.06.94zm-11 1L8.5 8.5l.94-2.06 2.06-.94-2.06-.94L8.5 2.5l-.94 2.06-2.06.94zm10 10l.94 2.06.94-2.06 2.06-.94-2.06-.94-.94-2.06-.94 2.06-2.06.94z\"/><path d=\"M17.41 7.96l-1.37-1.37c-.4-.4-.92-.59-1.43-.59-.52 0-1.04.2-1.43.59L10.3 9.45l-7.72 7.72c-.78.78-.78 2.05 0 2.83L4 21.41c.39.39.9.59 1.41.59.51 0 1.02-.2 1.41-.59l7.78-7.78 2.81-2.81c.8-.78.8-2.07 0-2.86zM5.41 20L4 18.59l7.72-7.72 1.47 1.35L5.41 20z\"/>\n",
              "  </svg>\n",
              "      </button>\n",
              "      \n",
              "  <style>\n",
              "    .colab-df-container {\n",
              "      display:flex;\n",
              "      flex-wrap:wrap;\n",
              "      gap: 12px;\n",
              "    }\n",
              "\n",
              "    .colab-df-convert {\n",
              "      background-color: #E8F0FE;\n",
              "      border: none;\n",
              "      border-radius: 50%;\n",
              "      cursor: pointer;\n",
              "      display: none;\n",
              "      fill: #1967D2;\n",
              "      height: 32px;\n",
              "      padding: 0 0 0 0;\n",
              "      width: 32px;\n",
              "    }\n",
              "\n",
              "    .colab-df-convert:hover {\n",
              "      background-color: #E2EBFA;\n",
              "      box-shadow: 0px 1px 2px rgba(60, 64, 67, 0.3), 0px 1px 3px 1px rgba(60, 64, 67, 0.15);\n",
              "      fill: #174EA6;\n",
              "    }\n",
              "\n",
              "    [theme=dark] .colab-df-convert {\n",
              "      background-color: #3B4455;\n",
              "      fill: #D2E3FC;\n",
              "    }\n",
              "\n",
              "    [theme=dark] .colab-df-convert:hover {\n",
              "      background-color: #434B5C;\n",
              "      box-shadow: 0px 1px 3px 1px rgba(0, 0, 0, 0.15);\n",
              "      filter: drop-shadow(0px 1px 2px rgba(0, 0, 0, 0.3));\n",
              "      fill: #FFFFFF;\n",
              "    }\n",
              "  </style>\n",
              "\n",
              "      <script>\n",
              "        const buttonEl =\n",
              "          document.querySelector('#df-dbf41a83-aa41-4658-a448-9392296a2e85 button.colab-df-convert');\n",
              "        buttonEl.style.display =\n",
              "          google.colab.kernel.accessAllowed ? 'block' : 'none';\n",
              "\n",
              "        async function convertToInteractive(key) {\n",
              "          const element = document.querySelector('#df-dbf41a83-aa41-4658-a448-9392296a2e85');\n",
              "          const dataTable =\n",
              "            await google.colab.kernel.invokeFunction('convertToInteractive',\n",
              "                                                     [key], {});\n",
              "          if (!dataTable) return;\n",
              "\n",
              "          const docLinkHtml = 'Like what you see? Visit the ' +\n",
              "            '<a target=\"_blank\" href=https://colab.research.google.com/notebooks/data_table.ipynb>data table notebook</a>'\n",
              "            + ' to learn more about interactive tables.';\n",
              "          element.innerHTML = '';\n",
              "          dataTable['output_type'] = 'display_data';\n",
              "          await google.colab.output.renderOutput(dataTable, element);\n",
              "          const docLink = document.createElement('div');\n",
              "          docLink.innerHTML = docLinkHtml;\n",
              "          element.appendChild(docLink);\n",
              "        }\n",
              "      </script>\n",
              "    </div>\n",
              "  </div>\n",
              "  "
            ],
            "text/plain": [
              "   Gender  Age  Annual Income (k$)  Spending Score (1-100)  Cluster1\n",
              "0    Male   19                  15                      39         0\n",
              "1    Male   21                  15                      81         0\n",
              "2  Female   20                  16                       6         0\n",
              "3  Female   23                  16                      77         0\n",
              "4  Female   31                  17                      40         0"
            ]
          },
          "execution_count": 63,
          "metadata": {},
          "output_type": "execute_result"
        }
      ],
      "source": [
        "df['Cluster1'] = model1.labels_\n",
        "#buat kolom baru di df dengan nama Cluster yg isinya merupakan variabel cluster\n",
        "df.head()"
      ]
    },
    {
      "cell_type": "code",
      "execution_count": null,
      "metadata": {
        "colab": {
          "base_uri": "https://localhost:8080/",
          "height": 296
        },
        "id": "C2gwI5aOXloy",
        "outputId": "949e352c-e22c-4f19-c543-3a0395c655b2"
      },
      "outputs": [
        {
          "data": {
            "text/plain": [
              "Text(0, 0.5, 'Spending Score (1-100)')"
            ]
          },
          "execution_count": 64,
          "metadata": {},
          "output_type": "execute_result"
        },
        {
          "data": {
            "image/png": "[encoded data removed]",
            "text/plain": [
              "<Figure size 432x288 with 1 Axes>"
            ]
          },
          "metadata": {},
          "output_type": "display_data"
        }
      ],
      "source": [
        "#buat visualisasinya\n",
        "df1a=df[df['Cluster1']==0]\n",
        "df1b=df[df['Cluster1']==1]\n",
        "df1c=df[df['Cluster1']==2]\n",
        "\n",
        "plt.scatter(df1a['Annual Income (k$)'],df1a['Spending Score (1-100)'])\n",
        "plt.scatter(df1b['Annual Income (k$)'],df1b['Spending Score (1-100)'])\n",
        "plt.scatter(df1c['Annual Income (k$)'],df1c['Spending Score (1-100)'])\n",
        "plt.xlabel('Annual Income (k$)')\n",
        "plt.ylabel('Spending Score (1-100)')"
      ]
    },
    {
      "cell_type": "markdown",
      "metadata": {
        "id": "7MG8b9nLGUfY"
      },
      "source": [
        "Cluster yang terbentuk dari model 1 ada sebanyak 3 cluster. Dengan plot antara Annual Income dan Spending score diketahui bahwa cluster tersebut memiliki karakteristik tertentu yaitu\n",
        "* Cluster 1 (titik data berwarna biru) adalah customer dengan Annual Income rendah (antara 15 sampai 70 ribu dollar) dan Spending score menyebar antara 1 - 99.\n",
        "* Cluster 2 (titik data berwarna hijau) adalah customer dengan Annual Income tinggi (antara 70 sampai 140 ribu dollar) dan Spending Score rendah (antara 1-40).\n",
        "* Cluster 3 (titik data berwarna oranye) adalah customer dengan Annual Income tinggi (antara 70 sampai 140 ribu dollar) dan Spending Score yang juga tinggi (antara 60-99)."
      ]
    },
    {
      "cell_type": "code",
      "execution_count": null,
      "metadata": {
        "colab": {
          "base_uri": "https://localhost:8080/",
          "height": 296
        },
        "id": "QQbIoSKjJJIV",
        "outputId": "02b0ec65-7a27-4c2b-ce15-4cf60315be0a"
      },
      "outputs": [
        {
          "data": {
            "text/plain": [
              "<matplotlib.axes._subplots.AxesSubplot at 0x7fabefa34950>"
            ]
          },
          "execution_count": 65,
          "metadata": {},
          "output_type": "execute_result"
        },
        {
          "data": {
            "image/png": "[encoded data removed]",
            "text/plain": [
              "<Figure size 432x288 with 1 Axes>"
            ]
          },
          "metadata": {},
          "output_type": "display_data"
        }
      ],
      "source": [
        "sns.countplot(data = df, x = 'Cluster1')\n",
        "#liat jumlah data tiap cluster"
      ]
    },
    {
      "cell_type": "markdown",
      "metadata": {
        "id": "rU1U23JALeWR"
      },
      "source": [
        "Dari barplot di atas, diketahui bahwa jumlah cluster 2 dan 3 sama yaitu 40, sedangkan cluster 1 memiliki jumlah terbanyak yaitu 120."
      ]
    },
    {
      "cell_type": "markdown",
      "metadata": {
        "id": "8GNQHPPXYE4K"
      },
      "source": [
        "### Evaluasi"
      ]
    },
    {
      "cell_type": "markdown",
      "metadata": {
        "id": "XzjpCTtULy66"
      },
      "source": [
        "Evaluasi model yang digunakan ada tiga yaitu Silhouette Coefficient, Calinski-Harabasz Index, dan Davies-Bouldin Index"
      ]
    },
    {
      "cell_type": "code",
      "execution_count": null,
      "metadata": {
        "id": "K27-IFzEYo8Y"
      },
      "outputs": [],
      "source": [
        "from sklearn import metrics\n",
        "from sklearn.metrics import davies_bouldin_score"
      ]
    },
    {
      "cell_type": "code",
      "execution_count": null,
      "metadata": {
        "colab": {
          "base_uri": "https://localhost:8080/"
        },
        "id": "EhrRhU09Xlyd",
        "outputId": "e6a63b73-d03d-4743-9ea1-491e571e10bc"
      },
      "outputs": [
        {
          "data": {
            "text/plain": [
              "0.46761358158775435"
            ]
          },
          "execution_count": 67,
          "metadata": {},
          "output_type": "execute_result"
        }
      ],
      "source": [
        "metrics.silhouette_score(df[['Annual Income (k$)', 'Spending Score (1-100)']], model1.labels_, metric='euclidean')"
      ]
    },
    {
      "cell_type": "markdown",
      "metadata": {
        "id": "OS_587GBOj0J"
      },
      "source": [
        "Metrics ini membagi setiap value/pengamatan dan membandingkan dua skor yaitu nilai a (rata-rata jarak antara sebuah pengamatan dengan pengamatan lain dalam satu cluster) dan nilai b (rata-rata jarak antara sebuah pengamatan dengan pengamatan lain di cluster lain terdekat).\n",
        "\n",
        "Nilai metrics ini antara 0 - 1, semakin mendekati 1 maka cluster semakin baik.\n",
        "\n",
        "Pada model cluster pertama, diperoleh nilai silhouette sebesar 0,468 yang artinya kualitas cluster kurang baik/lemah."
      ]
    },
    {
      "cell_type": "code",
      "execution_count": null,
      "metadata": {
        "colab": {
          "base_uri": "https://localhost:8080/"
        },
        "id": "PMLuGeJLX0yH",
        "outputId": "7cc0f8f2-1bc3-406f-edf4-383d85b01fa7"
      },
      "outputs": [
        {
          "data": {
            "text/plain": [
              "151.5570090006799"
            ]
          },
          "execution_count": 68,
          "metadata": {},
          "output_type": "execute_result"
        }
      ],
      "source": [
        "metrics.calinski_harabasz_score(df[['Annual Income (k$)', 'Spending Score (1-100)']], model1.labels_)"
      ]
    },
    {
      "cell_type": "markdown",
      "metadata": {
        "id": "92Zae_9dQV0L"
      },
      "source": [
        "Indeks Calinski-Harabasz menghitung perbandingan antara nilai\n",
        "Sum of Square between cluster sebagai separation dan nilai Sum of Square within\n",
        "cluster sebagai compactness yang dikalikan dengan faktor normalisasi.\n",
        "\n",
        "Semakin besar nilai index ini maka cluster semakin baik.\n",
        "\n",
        "Pada model cluster pertama, diperoleh nilai index Calinski-Harabasz sebesar 151,557 yang artinya kualitas cluster kurang baik/lemah."
      ]
    },
    {
      "cell_type": "code",
      "execution_count": null,
      "metadata": {
        "colab": {
          "base_uri": "https://localhost:8080/"
        },
        "id": "-lUU3AgNX02h",
        "outputId": "e8d3d0eb-6a3e-408d-a3aa-6d64a925ed37"
      },
      "outputs": [
        {
          "data": {
            "text/plain": [
              "0.7152768202484618"
            ]
          },
          "execution_count": 69,
          "metadata": {},
          "output_type": "execute_result"
        }
      ],
      "source": [
        "davies_bouldin_score(df[['Annual Income (k$)', 'Spending Score (1-100)']], model1.labels_)"
      ]
    },
    {
      "cell_type": "markdown",
      "metadata": {
        "id": "lGk_k3tfTASj"
      },
      "source": [
        "Indeks Davies-Bouldin menghitung rata-rata nilai 'similarity' di antara cluster. Nilai 'similarity; yaitu perbandingan jarak antar cluster dengan ukuran cluster itu sendiri.\n",
        "\n",
        "Semakin kecil (mendekati 0) nilai index ini maka cluster semakin baik.\n",
        "\n",
        "Pada model pertama didapat nilai indek Davies-Bouldin sebesar 0.715 yang tidak mendekati 0, artinya kualitas cluster kurang baik/lemah."
      ]
    },
    {
      "cell_type": "markdown",
      "metadata": {
        "id": "sE4kfmCQYoYl"
      },
      "source": [
        "## Model Cluster 2 (berdasarkan variabel Age dan Spending Score)"
      ]
    },
    {
      "cell_type": "code",
      "execution_count": null,
      "metadata": {
        "colab": {
          "base_uri": "https://localhost:8080/",
          "height": 300
        },
        "id": "cYiSSXQ4YoYw",
        "outputId": "323c7cd6-d1bd-4c35-f9fc-f583f3df5318"
      },
      "outputs": [
        {
          "data": {
            "text/plain": [
              "<Figure size 1152x576 with 0 Axes>"
            ]
          },
          "execution_count": 70,
          "metadata": {},
          "output_type": "execute_result"
        },
        {
          "data": {
            "image/png": "[encoded data removed]",
            "text/plain": [
              "<Figure size 432x288 with 1 Axes>"
            ]
          },
          "metadata": {},
          "output_type": "display_data"
        },
        {
          "data": {
            "text/plain": [
              "<Figure size 1152x576 with 0 Axes>"
            ]
          },
          "metadata": {},
          "output_type": "display_data"
        }
      ],
      "source": [
        "#Elbow Method\n",
        "#untuk mencari jumlah cluster optimal jika tidak diketahui akan dibagi berapa cluster\n",
        "\n",
        "dist = []\n",
        "K = range (1, 10)\n",
        "\n",
        "for i in K:\n",
        "  kmean = KMeans(n_clusters = i)\n",
        "  kmean.fit(dfcluster[['Age', 'Spending Score (1-100)']])\n",
        "  dist.append(kmean.inertia_)\n",
        "\n",
        "plt.plot(K, dist)\n",
        "plt.figure(figsize = (16,8))"
      ]
    },
    {
      "cell_type": "markdown",
      "metadata": {
        "id": "6OfwfkxLYoYx"
      },
      "source": [
        "Untuk mengetahui berapa jumlah cluster optimal yang diperlukan, kita bisa menggunakan metode Elbow. Cari titik dimana garis mengalami patahan atau membentuk siku yaitu pada titik ke 2."
      ]
    },
    {
      "cell_type": "code",
      "execution_count": null,
      "metadata": {
        "colab": {
          "base_uri": "https://localhost:8080/"
        },
        "id": "DFqS4xV3YoYx",
        "outputId": "73fe70a5-2945-44e8-a8bd-bc67275ee54f"
      },
      "outputs": [
        {
          "name": "stdout",
          "output_type": "stream",
          "text": [
            "[1 0 1 0 1 0 1 0 1 0 1 0 1 0 1 0 1 0 1 0 1 0 1 0 1 0 1 0 1 0 1 0 1 0 1 0 1\n",
            " 0 1 0 1 0 1 0 1 0 1 1 1 1 1 0 0 1 1 1 1 1 0 1 1 0 1 1 1 0 1 1 0 1 1 1 1 1\n",
            " 1 0 1 1 0 1 1 0 1 1 0 1 1 0 0 1 1 1 1 1 1 0 1 0 1 0 1 1 1 0 1 1 1 1 1 1 1\n",
            " 0 1 0 0 0 1 0 1 1 0 1 0 0 1 0 1 0 1 0 1 0 1 0 1 0 1 0 1 0 1 0 1 0 1 0 1 0\n",
            " 1 0 1 0 1 0 1 0 1 0 1 0 1 0 1 0 1 0 1 0 1 0 1 0 1 0 1 0 1 0 1 0 1 0 1 0 1\n",
            " 0 1 0 1 0 1 0 1 0 1 0 1 0 1 0]\n"
          ]
        }
      ],
      "source": [
        "#buat model dengan jumlah cluster = 2\n",
        "\n",
        "model2 = KMeans(n_clusters=2)\n",
        "model2.fit(dfcluster[['Age', 'Spending Score (1-100)']])\n",
        "print(model2.labels_)"
      ]
    },
    {
      "cell_type": "code",
      "execution_count": null,
      "metadata": {
        "colab": {
          "base_uri": "https://localhost:8080/",
          "height": 206
        },
        "id": "6kW6JvajYoYy",
        "outputId": "a0d5e840-dd55-4d13-8574-d0b2e011b48c"
      },
      "outputs": [
        {
          "data": {
            "text/html": [
              "\n",
              "  <div id=\"df-8fdba372-8181-4313-a5ce-91b5d8075d8b\">\n",
              "    <div class=\"colab-df-container\">\n",
              "      <div>\n",
              "<style scoped>\n",
              "    .dataframe tbody tr th:only-of-type {\n",
              "        vertical-align: middle;\n",
              "    }\n",
              "\n",
              "    .dataframe tbody tr th {\n",
              "        vertical-align: top;\n",
              "    }\n",
              "\n",
              "    .dataframe thead th {\n",
              "        text-align: right;\n",
              "    }\n",
              "</style>\n",
              "<table border=\"1\" class=\"dataframe\">\n",
              "  <thead>\n",
              "    <tr style=\"text-align: right;\">\n",
              "      <th></th>\n",
              "      <th>Gender</th>\n",
              "      <th>Age</th>\n",
              "      <th>Annual Income (k$)</th>\n",
              "      <th>Spending Score (1-100)</th>\n",
              "      <th>Cluster1</th>\n",
              "      <th>Cluster2</th>\n",
              "    </tr>\n",
              "  </thead>\n",
              "  <tbody>\n",
              "    <tr>\n",
              "      <th>0</th>\n",
              "      <td>Male</td>\n",
              "      <td>19</td>\n",
              "      <td>15</td>\n",
              "      <td>39</td>\n",
              "      <td>0</td>\n",
              "      <td>1</td>\n",
              "    </tr>\n",
              "    <tr>\n",
              "      <th>1</th>\n",
              "      <td>Male</td>\n",
              "      <td>21</td>\n",
              "      <td>15</td>\n",
              "      <td>81</td>\n",
              "      <td>0</td>\n",
              "      <td>0</td>\n",
              "    </tr>\n",
              "    <tr>\n",
              "      <th>2</th>\n",
              "      <td>Female</td>\n",
              "      <td>20</td>\n",
              "      <td>16</td>\n",
              "      <td>6</td>\n",
              "      <td>0</td>\n",
              "      <td>1</td>\n",
              "    </tr>\n",
              "    <tr>\n",
              "      <th>3</th>\n",
              "      <td>Female</td>\n",
              "      <td>23</td>\n",
              "      <td>16</td>\n",
              "      <td>77</td>\n",
              "      <td>0</td>\n",
              "      <td>0</td>\n",
              "    </tr>\n",
              "    <tr>\n",
              "      <th>4</th>\n",
              "      <td>Female</td>\n",
              "      <td>31</td>\n",
              "      <td>17</td>\n",
              "      <td>40</td>\n",
              "      <td>0</td>\n",
              "      <td>1</td>\n",
              "    </tr>\n",
              "  </tbody>\n",
              "</table>\n",
              "</div>\n",
              "      <button class=\"colab-df-convert\" onclick=\"convertToInteractive('df-8fdba372-8181-4313-a5ce-91b5d8075d8b')\"\n",
              "              title=\"Convert this dataframe to an interactive table.\"\n",
              "              style=\"display:none;\">\n",
              "        \n",
              "  <svg xmlns=\"http://www.w3.org/2000/svg\" height=\"24px\"viewBox=\"0 0 24 24\"\n",
              "       width=\"24px\">\n",
              "    <path d=\"M0 0h24v24H0V0z\" fill=\"none\"/>\n",
              "    <path d=\"M18.56 5.44l.94 2.06.94-2.06 2.06-.94-2.06-.94-.94-2.06-.94 2.06-2.06.94zm-11 1L8.5 8.5l.94-2.06 2.06-.94-2.06-.94L8.5 2.5l-.94 2.06-2.06.94zm10 10l.94 2.06.94-2.06 2.06-.94-2.06-.94-.94-2.06-.94 2.06-2.06.94z\"/><path d=\"M17.41 7.96l-1.37-1.37c-.4-.4-.92-.59-1.43-.59-.52 0-1.04.2-1.43.59L10.3 9.45l-7.72 7.72c-.78.78-.78 2.05 0 2.83L4 21.41c.39.39.9.59 1.41.59.51 0 1.02-.2 1.41-.59l7.78-7.78 2.81-2.81c.8-.78.8-2.07 0-2.86zM5.41 20L4 18.59l7.72-7.72 1.47 1.35L5.41 20z\"/>\n",
              "  </svg>\n",
              "      </button>\n",
              "      \n",
              "  <style>\n",
              "    .colab-df-container {\n",
              "      display:flex;\n",
              "      flex-wrap:wrap;\n",
              "      gap: 12px;\n",
              "    }\n",
              "\n",
              "    .colab-df-convert {\n",
              "      background-color: #E8F0FE;\n",
              "      border: none;\n",
              "      border-radius: 50%;\n",
              "      cursor: pointer;\n",
              "      display: none;\n",
              "      fill: #1967D2;\n",
              "      height: 32px;\n",
              "      padding: 0 0 0 0;\n",
              "      width: 32px;\n",
              "    }\n",
              "\n",
              "    .colab-df-convert:hover {\n",
              "      background-color: #E2EBFA;\n",
              "      box-shadow: 0px 1px 2px rgba(60, 64, 67, 0.3), 0px 1px 3px 1px rgba(60, 64, 67, 0.15);\n",
              "      fill: #174EA6;\n",
              "    }\n",
              "\n",
              "    [theme=dark] .colab-df-convert {\n",
              "      background-color: #3B4455;\n",
              "      fill: #D2E3FC;\n",
              "    }\n",
              "\n",
              "    [theme=dark] .colab-df-convert:hover {\n",
              "      background-color: #434B5C;\n",
              "      box-shadow: 0px 1px 3px 1px rgba(0, 0, 0, 0.15);\n",
              "      filter: drop-shadow(0px 1px 2px rgba(0, 0, 0, 0.3));\n",
              "      fill: #FFFFFF;\n",
              "    }\n",
              "  </style>\n",
              "\n",
              "      <script>\n",
              "        const buttonEl =\n",
              "          document.querySelector('#df-8fdba372-8181-4313-a5ce-91b5d8075d8b button.colab-df-convert');\n",
              "        buttonEl.style.display =\n",
              "          google.colab.kernel.accessAllowed ? 'block' : 'none';\n",
              "\n",
              "        async function convertToInteractive(key) {\n",
              "          const element = document.querySelector('#df-8fdba372-8181-4313-a5ce-91b5d8075d8b');\n",
              "          const dataTable =\n",
              "            await google.colab.kernel.invokeFunction('convertToInteractive',\n",
              "                                                     [key], {});\n",
              "          if (!dataTable) return;\n",
              "\n",
              "          const docLinkHtml = 'Like what you see? Visit the ' +\n",
              "            '<a target=\"_blank\" href=https://colab.research.google.com/notebooks/data_table.ipynb>data table notebook</a>'\n",
              "            + ' to learn more about interactive tables.';\n",
              "          element.innerHTML = '';\n",
              "          dataTable['output_type'] = 'display_data';\n",
              "          await google.colab.output.renderOutput(dataTable, element);\n",
              "          const docLink = document.createElement('div');\n",
              "          docLink.innerHTML = docLinkHtml;\n",
              "          element.appendChild(docLink);\n",
              "        }\n",
              "      </script>\n",
              "    </div>\n",
              "  </div>\n",
              "  "
            ],
            "text/plain": [
              "   Gender  Age  Annual Income (k$)  Spending Score (1-100)  Cluster1  Cluster2\n",
              "0    Male   19                  15                      39         0         1\n",
              "1    Male   21                  15                      81         0         0\n",
              "2  Female   20                  16                       6         0         1\n",
              "3  Female   23                  16                      77         0         0\n",
              "4  Female   31                  17                      40         0         1"
            ]
          },
          "execution_count": 72,
          "metadata": {},
          "output_type": "execute_result"
        }
      ],
      "source": [
        "df['Cluster2'] = model2.labels_\n",
        "#buat kolom baru di df dengan nama Cluster yg isinya merupakan variabel cluster\n",
        "df.head()"
      ]
    },
    {
      "cell_type": "code",
      "execution_count": null,
      "metadata": {
        "colab": {
          "base_uri": "https://localhost:8080/",
          "height": 296
        },
        "id": "6sYgytcDYoYy",
        "outputId": "4bd28576-dc32-4915-d19e-2252e175d0ea"
      },
      "outputs": [
        {
          "data": {
            "text/plain": [
              "Text(0, 0.5, 'Spending Score (1-100)')"
            ]
          },
          "execution_count": 73,
          "metadata": {},
          "output_type": "execute_result"
        },
        {
          "data": {
            "image/png": "[encoded data removed]",
            "text/plain": [
              "<Figure size 432x288 with 1 Axes>"
            ]
          },
          "metadata": {},
          "output_type": "display_data"
        }
      ],
      "source": [
        "#buat visualisasinya\n",
        "df2a=df[df['Cluster2']==0]\n",
        "df2b=df[df['Cluster2']==1]\n",
        "\n",
        "plt.scatter(df2a['Age'],df2a['Spending Score (1-100)'])\n",
        "plt.scatter(df2b['Age'],df2b['Spending Score (1-100)'])\n",
        "plt.xlabel('Age')\n",
        "plt.ylabel('Spending Score (1-100)')"
      ]
    },
    {
      "cell_type": "markdown",
      "metadata": {
        "id": "IZQ_mR4HYoYz"
      },
      "source": [
        "Cluster yang terbentuk dari model 2 ada sebanyak 2 cluster. Dengan plot antara Age dan Spending score diketahui bahwa cluster tersebut memiliki karakteristik tertentu yaitu\n",
        "* Cluster 1 (titik data berwarna biru) adalah customer dengan Age menyebar antara 19 - 50 tahun dan Spending Score tinggi (antara 40-99).\n",
        "* Cluster 2 (titik data berwarna oranye) adalah customer dengan Age menyebar antara 19 - 68 tahun dan Spending score rendah (antara 1 - 60)."
      ]
    },
    {
      "cell_type": "code",
      "execution_count": null,
      "metadata": {
        "colab": {
          "base_uri": "https://localhost:8080/",
          "height": 299
        },
        "id": "5sxtAGy8YoYz",
        "outputId": "a228c4ec-a220-4041-cfd2-1b36526df36c"
      },
      "outputs": [
        {
          "data": {
            "text/plain": [
              "<matplotlib.axes._subplots.AxesSubplot at 0x7fabef945390>"
            ]
          },
          "execution_count": 74,
          "metadata": {},
          "output_type": "execute_result"
        },
        {
          "data": {
            "image/png": "[encoded data removed]",
            "text/plain": [
              "<Figure size 432x288 with 1 Axes>"
            ]
          },
          "metadata": {},
          "output_type": "display_data"
        }
      ],
      "source": [
        "sns.countplot(data = df, x = 'Cluster2')\n",
        "#liat jumlah data tiap cluster"
      ]
    },
    {
      "cell_type": "markdown",
      "metadata": {
        "id": "Ey8X0CglYoYz"
      },
      "source": [
        "Dari barplot di atas, diketahui bahwa jumlah cluster 1 sebanyak 85 dan cluster 2 sebanyak 115."
      ]
    },
    {
      "cell_type": "markdown",
      "metadata": {
        "id": "Ap6dbjAIYoY0"
      },
      "source": [
        "### Evaluasi"
      ]
    },
    {
      "cell_type": "markdown",
      "metadata": {
        "id": "2hUoi9-0YoY0"
      },
      "source": [
        "Evaluasi model yang digunakan ada tiga yaitu Silhouette Coefficient, Calinski-Harabasz Index, dan Davies-Bouldin Index"
      ]
    },
    {
      "cell_type": "code",
      "execution_count": null,
      "metadata": {
        "id": "gMZI-zxVYoY0"
      },
      "outputs": [],
      "source": [
        "from sklearn import metrics\n",
        "from sklearn.metrics import davies_bouldin_score"
      ]
    },
    {
      "cell_type": "code",
      "execution_count": null,
      "metadata": {
        "colab": {
          "base_uri": "https://localhost:8080/"
        },
        "id": "KOOzDQqUYoY1",
        "outputId": "21af75fb-a570-45fe-afd2-b38203a76ce2"
      },
      "outputs": [
        {
          "data": {
            "text/plain": [
              "0.4692341232501655"
            ]
          },
          "execution_count": 77,
          "metadata": {},
          "output_type": "execute_result"
        }
      ],
      "source": [
        "metrics.silhouette_score(df[['Age', 'Spending Score (1-100)']], model2.labels_, metric='euclidean')"
      ]
    },
    {
      "cell_type": "markdown",
      "metadata": {
        "id": "gcdEinArYoY1"
      },
      "source": [
        "Metrics ini membagi setiap value/pengamatan dan membandingkan dua skor yaitu nilai a (rata-rata jarak antara sebuah pengamatan dengan pengamatan lain dalam satu cluster) dan nilai b (rata-rata jarak antara sebuah pengamatan dengan pengamatan lain di cluster lain terdekat).\n",
        "\n",
        "Nilai metrics ini antara 0 - 1, semakin mendekati 1 maka cluster semakin baik.\n",
        "\n",
        "Pada model cluster pertama, diperoleh nilai silhouette sebesar 0,469 yang artinya kualitas cluster kurang baik/lemah."
      ]
    },
    {
      "cell_type": "code",
      "execution_count": null,
      "metadata": {
        "colab": {
          "base_uri": "https://localhost:8080/"
        },
        "id": "u_1nHZtSYoY1",
        "outputId": "4a3d3266-c384-4cd5-db42-9d7b8e61dbf6"
      },
      "outputs": [
        {
          "data": {
            "text/plain": [
              "249.19429134176448"
            ]
          },
          "execution_count": 78,
          "metadata": {},
          "output_type": "execute_result"
        }
      ],
      "source": [
        "metrics.calinski_harabasz_score(df[['Age', 'Spending Score (1-100)']], model2.labels_)"
      ]
    },
    {
      "cell_type": "markdown",
      "metadata": {
        "id": "ChtT_dYVYoY2"
      },
      "source": [
        "Indeks Calinski-Harabasz menghitung perbandingan antara nilai\n",
        "Sum of Square between cluster sebagai separation dan nilai Sum of Square within\n",
        "cluster sebagai compactness yang dikalikan dengan faktor normalisasi.\n",
        "\n",
        "Semakin besar nilai index ini maka cluster semakin baik.\n",
        "\n",
        "Pada model cluster pertama, diperoleh nilai index Calinski-Harabasz sebesar 249,194 yang artinya kualitas cluster kurang baik/lemah."
      ]
    },
    {
      "cell_type": "code",
      "execution_count": null,
      "metadata": {
        "colab": {
          "base_uri": "https://localhost:8080/"
        },
        "id": "MBM0MnDIYoY2",
        "outputId": "325fffed-2978-442e-e765-78197b3e73e6"
      },
      "outputs": [
        {
          "data": {
            "text/plain": [
              "0.7722203222724408"
            ]
          },
          "execution_count": 79,
          "metadata": {},
          "output_type": "execute_result"
        }
      ],
      "source": [
        "davies_bouldin_score(df[['Age', 'Spending Score (1-100)']], model2.labels_)"
      ]
    },
    {
      "cell_type": "markdown",
      "metadata": {
        "id": "Bk7-CYNYYoY3"
      },
      "source": [
        "Indeks Davies-Bouldin menghitung rata-rata nilai 'similarity' di antara cluster. Nilai 'similarity; yaitu perbandingan jarak antar cluster dengan ukuran cluster itu sendiri.\n",
        "\n",
        "Semakin kecil (mendekati 0) nilai index ini maka cluster semakin baik.\n",
        "\n",
        "Pada model pertama didapat nilai indek Davies-Bouldin sebesar 0.772 yang tidak mendekati 0, artinya kualitas cluster kurang baik/lemah."
      ]
    },
    {
      "cell_type": "markdown",
      "metadata": {
        "id": "IdlWFqRetCTx"
      },
      "source": [
        "## Model Cluster 3 (berdasarkan variabel Age, Annual Income dan Spending Score)"
      ]
    },
    {
      "cell_type": "code",
      "execution_count": null,
      "metadata": {
        "colab": {
          "base_uri": "https://localhost:8080/",
          "height": 300
        },
        "id": "ynjWu8_XtCTy",
        "outputId": "d4816100-a16c-4be6-90de-8edd2d964ee0"
      },
      "outputs": [
        {
          "data": {
            "text/plain": [
              "<Figure size 1152x576 with 0 Axes>"
            ]
          },
          "execution_count": 80,
          "metadata": {},
          "output_type": "execute_result"
        },
        {
          "data": {
            "image/png": "[encoded data removed]",
            "text/plain": [
              "<Figure size 432x288 with 1 Axes>"
            ]
          },
          "metadata": {},
          "output_type": "display_data"
        },
        {
          "data": {
            "text/plain": [
              "<Figure size 1152x576 with 0 Axes>"
            ]
          },
          "metadata": {},
          "output_type": "display_data"
        }
      ],
      "source": [
        "#Elbow Method\n",
        "#untuk mencari jumlah cluster optimal jika tidak diketahui akan dibagi berapa cluster\n",
        "\n",
        "dist = []\n",
        "K = range (1, 10)\n",
        "\n",
        "for i in K:\n",
        "  kmean = KMeans(n_clusters = i)\n",
        "  kmean.fit(dfcluster)\n",
        "  dist.append(kmean.inertia_)\n",
        "\n",
        "plt.plot(K, dist)\n",
        "plt.figure(figsize = (16,8))"
      ]
    },
    {
      "cell_type": "markdown",
      "metadata": {
        "id": "FMNRr-SVtCTz"
      },
      "source": [
        "Untuk mengetahui berapa jumlah cluster optimal yang diperlukan, kita bisa menggunakan metode Elbow. Cari titik dimana garis mengalami patahan atau membentuk siku yaitu pada titik ke 3."
      ]
    },
    {
      "cell_type": "code",
      "execution_count": null,
      "metadata": {
        "colab": {
          "base_uri": "https://localhost:8080/"
        },
        "id": "JfNG5WZKtCTz",
        "outputId": "bce25ce1-5a5f-449d-9524-e6b293c1f273"
      },
      "outputs": [
        {
          "name": "stdout",
          "output_type": "stream",
          "text": [
            "[1 1 1 1 1 1 1 1 1 1 1 1 1 1 1 1 1 1 1 1 1 1 1 1 1 1 1 1 1 1 1 1 1 1 1 1 1\n",
            " 1 1 1 1 1 1 1 1 1 1 1 1 1 1 1 1 1 1 1 1 1 1 1 1 1 1 1 1 1 1 1 1 1 1 1 1 1\n",
            " 1 1 1 1 1 1 1 1 1 1 1 1 1 1 1 1 1 1 1 1 1 1 1 1 1 1 1 1 1 1 1 1 1 1 1 1 1\n",
            " 1 1 1 1 1 1 1 1 1 1 1 1 0 2 0 2 0 2 0 2 0 2 0 2 0 2 0 2 0 2 0 2 0 2 0 2 0\n",
            " 2 0 2 0 2 0 2 0 2 0 2 0 2 0 2 0 2 0 2 0 2 0 2 0 2 0 2 0 2 0 2 0 2 0 2 0 2\n",
            " 0 2 0 2 0 2 0 2 0 2 0 2 0 2 0]\n"
          ]
        }
      ],
      "source": [
        "#buat model dengan jumlah cluster = 3\n",
        "\n",
        "model3 = KMeans(n_clusters=3)\n",
        "model3.fit(dfcluster)\n",
        "print(model3.labels_)"
      ]
    },
    {
      "cell_type": "code",
      "execution_count": null,
      "metadata": {
        "colab": {
          "base_uri": "https://localhost:8080/",
          "height": 206
        },
        "id": "3Yhhae05tCTz",
        "outputId": "09e9df96-3819-452d-f8d0-5ecc8e9ab701"
      },
      "outputs": [
        {
          "data": {
            "text/html": [
              "\n",
              "  <div id=\"df-36de8c55-be3b-4515-b792-bc4e32747bab\">\n",
              "    <div class=\"colab-df-container\">\n",
              "      <div>\n",
              "<style scoped>\n",
              "    .dataframe tbody tr th:only-of-type {\n",
              "        vertical-align: middle;\n",
              "    }\n",
              "\n",
              "    .dataframe tbody tr th {\n",
              "        vertical-align: top;\n",
              "    }\n",
              "\n",
              "    .dataframe thead th {\n",
              "        text-align: right;\n",
              "    }\n",
              "</style>\n",
              "<table border=\"1\" class=\"dataframe\">\n",
              "  <thead>\n",
              "    <tr style=\"text-align: right;\">\n",
              "      <th></th>\n",
              "      <th>Gender</th>\n",
              "      <th>Age</th>\n",
              "      <th>Annual Income (k$)</th>\n",
              "      <th>Spending Score (1-100)</th>\n",
              "      <th>Cluster1</th>\n",
              "      <th>Cluster2</th>\n",
              "      <th>Cluster3</th>\n",
              "    </tr>\n",
              "  </thead>\n",
              "  <tbody>\n",
              "    <tr>\n",
              "      <th>0</th>\n",
              "      <td>Male</td>\n",
              "      <td>19</td>\n",
              "      <td>15</td>\n",
              "      <td>39</td>\n",
              "      <td>0</td>\n",
              "      <td>1</td>\n",
              "      <td>1</td>\n",
              "    </tr>\n",
              "    <tr>\n",
              "      <th>1</th>\n",
              "      <td>Male</td>\n",
              "      <td>21</td>\n",
              "      <td>15</td>\n",
              "      <td>81</td>\n",
              "      <td>0</td>\n",
              "      <td>0</td>\n",
              "      <td>1</td>\n",
              "    </tr>\n",
              "    <tr>\n",
              "      <th>2</th>\n",
              "      <td>Female</td>\n",
              "      <td>20</td>\n",
              "      <td>16</td>\n",
              "      <td>6</td>\n",
              "      <td>0</td>\n",
              "      <td>1</td>\n",
              "      <td>1</td>\n",
              "    </tr>\n",
              "    <tr>\n",
              "      <th>3</th>\n",
              "      <td>Female</td>\n",
              "      <td>23</td>\n",
              "      <td>16</td>\n",
              "      <td>77</td>\n",
              "      <td>0</td>\n",
              "      <td>0</td>\n",
              "      <td>1</td>\n",
              "    </tr>\n",
              "    <tr>\n",
              "      <th>4</th>\n",
              "      <td>Female</td>\n",
              "      <td>31</td>\n",
              "      <td>17</td>\n",
              "      <td>40</td>\n",
              "      <td>0</td>\n",
              "      <td>1</td>\n",
              "      <td>1</td>\n",
              "    </tr>\n",
              "  </tbody>\n",
              "</table>\n",
              "</div>\n",
              "      <button class=\"colab-df-convert\" onclick=\"convertToInteractive('df-36de8c55-be3b-4515-b792-bc4e32747bab')\"\n",
              "              title=\"Convert this dataframe to an interactive table.\"\n",
              "              style=\"display:none;\">\n",
              "        \n",
              "  <svg xmlns=\"http://www.w3.org/2000/svg\" height=\"24px\"viewBox=\"0 0 24 24\"\n",
              "       width=\"24px\">\n",
              "    <path d=\"M0 0h24v24H0V0z\" fill=\"none\"/>\n",
              "    <path d=\"M18.56 5.44l.94 2.06.94-2.06 2.06-.94-2.06-.94-.94-2.06-.94 2.06-2.06.94zm-11 1L8.5 8.5l.94-2.06 2.06-.94-2.06-.94L8.5 2.5l-.94 2.06-2.06.94zm10 10l.94 2.06.94-2.06 2.06-.94-2.06-.94-.94-2.06-.94 2.06-2.06.94z\"/><path d=\"M17.41 7.96l-1.37-1.37c-.4-.4-.92-.59-1.43-.59-.52 0-1.04.2-1.43.59L10.3 9.45l-7.72 7.72c-.78.78-.78 2.05 0 2.83L4 21.41c.39.39.9.59 1.41.59.51 0 1.02-.2 1.41-.59l7.78-7.78 2.81-2.81c.8-.78.8-2.07 0-2.86zM5.41 20L4 18.59l7.72-7.72 1.47 1.35L5.41 20z\"/>\n",
              "  </svg>\n",
              "      </button>\n",
              "      \n",
              "  <style>\n",
              "    .colab-df-container {\n",
              "      display:flex;\n",
              "      flex-wrap:wrap;\n",
              "      gap: 12px;\n",
              "    }\n",
              "\n",
              "    .colab-df-convert {\n",
              "      background-color: #E8F0FE;\n",
              "      border: none;\n",
              "      border-radius: 50%;\n",
              "      cursor: pointer;\n",
              "      display: none;\n",
              "      fill: #1967D2;\n",
              "      height: 32px;\n",
              "      padding: 0 0 0 0;\n",
              "      width: 32px;\n",
              "    }\n",
              "\n",
              "    .colab-df-convert:hover {\n",
              "      background-color: #E2EBFA;\n",
              "      box-shadow: 0px 1px 2px rgba(60, 64, 67, 0.3), 0px 1px 3px 1px rgba(60, 64, 67, 0.15);\n",
              "      fill: #174EA6;\n",
              "    }\n",
              "\n",
              "    [theme=dark] .colab-df-convert {\n",
              "      background-color: #3B4455;\n",
              "      fill: #D2E3FC;\n",
              "    }\n",
              "\n",
              "    [theme=dark] .colab-df-convert:hover {\n",
              "      background-color: #434B5C;\n",
              "      box-shadow: 0px 1px 3px 1px rgba(0, 0, 0, 0.15);\n",
              "      filter: drop-shadow(0px 1px 2px rgba(0, 0, 0, 0.3));\n",
              "      fill: #FFFFFF;\n",
              "    }\n",
              "  </style>\n",
              "\n",
              "      <script>\n",
              "        const buttonEl =\n",
              "          document.querySelector('#df-36de8c55-be3b-4515-b792-bc4e32747bab button.colab-df-convert');\n",
              "        buttonEl.style.display =\n",
              "          google.colab.kernel.accessAllowed ? 'block' : 'none';\n",
              "\n",
              "        async function convertToInteractive(key) {\n",
              "          const element = document.querySelector('#df-36de8c55-be3b-4515-b792-bc4e32747bab');\n",
              "          const dataTable =\n",
              "            await google.colab.kernel.invokeFunction('convertToInteractive',\n",
              "                                                     [key], {});\n",
              "          if (!dataTable) return;\n",
              "\n",
              "          const docLinkHtml = 'Like what you see? Visit the ' +\n",
              "            '<a target=\"_blank\" href=https://colab.research.google.com/notebooks/data_table.ipynb>data table notebook</a>'\n",
              "            + ' to learn more about interactive tables.';\n",
              "          element.innerHTML = '';\n",
              "          dataTable['output_type'] = 'display_data';\n",
              "          await google.colab.output.renderOutput(dataTable, element);\n",
              "          const docLink = document.createElement('div');\n",
              "          docLink.innerHTML = docLinkHtml;\n",
              "          element.appendChild(docLink);\n",
              "        }\n",
              "      </script>\n",
              "    </div>\n",
              "  </div>\n",
              "  "
            ],
            "text/plain": [
              "   Gender  Age  Annual Income (k$)  Spending Score (1-100)  Cluster1  \\\n",
              "0    Male   19                  15                      39         0   \n",
              "1    Male   21                  15                      81         0   \n",
              "2  Female   20                  16                       6         0   \n",
              "3  Female   23                  16                      77         0   \n",
              "4  Female   31                  17                      40         0   \n",
              "\n",
              "   Cluster2  Cluster3  \n",
              "0         1         1  \n",
              "1         0         1  \n",
              "2         1         1  \n",
              "3         0         1  \n",
              "4         1         1  "
            ]
          },
          "execution_count": 82,
          "metadata": {},
          "output_type": "execute_result"
        }
      ],
      "source": [
        "df['Cluster3'] = model3.labels_\n",
        "#buat kolom baru di df dengan nama Cluster yg isinya merupakan variabel cluster\n",
        "df.head()"
      ]
    },
    {
      "cell_type": "code",
      "execution_count": null,
      "metadata": {
        "colab": {
          "base_uri": "https://localhost:8080/",
          "height": 296
        },
        "id": "ZVeZ_L2BtCT0",
        "outputId": "ae911f34-2ded-4757-fff2-e79b7e75ff6e"
      },
      "outputs": [
        {
          "data": {
            "text/plain": [
              "Text(0, 0.5, 'Spending Score (1-100)')"
            ]
          },
          "execution_count": 83,
          "metadata": {},
          "output_type": "execute_result"
        },
        {
          "data": {
            "image/png": "[encoded data removed]",
            "text/plain": [
              "<Figure size 432x288 with 1 Axes>"
            ]
          },
          "metadata": {},
          "output_type": "display_data"
        }
      ],
      "source": [
        "#buat visualisasi berdasarkan plot antara Annual Income dan Spending Score\n",
        "df3a=df[df['Cluster3']==0]\n",
        "df3b=df[df['Cluster3']==1]\n",
        "df3c=df[df['Cluster3']==2]\n",
        "\n",
        "plt.scatter(df3a['Annual Income (k$)'],df3a['Spending Score (1-100)'])\n",
        "plt.scatter(df3b['Annual Income (k$)'],df3b['Spending Score (1-100)'])\n",
        "plt.scatter(df3c['Annual Income (k$)'],df3c['Spending Score (1-100)'])\n",
        "plt.xlabel('Annual Income (k$)')\n",
        "plt.ylabel('Spending Score (1-100)')"
      ]
    },
    {
      "cell_type": "markdown",
      "metadata": {
        "id": "zptoyyogtCT0"
      },
      "source": [
        "Cluster yang terbentuk dari model 3 ada sebanyak 3 cluster. Dengan plot antara Annual Income dan Spending score diketahui bahwa cluster tersebut memiliki karakteristik tertentu yaitu\n",
        "* Cluster 1 (titik data berwarna hijau) adalah customer dengan Annual Income tinggi (antara 70 sampai 140 ribu dollar) dan Spending Score rendah (antara 1-40).\n",
        "* Cluster 2 (titik data berwarna oranye) adalah customer dengan Annual Income rendah (antara 15 sampai 70 ribu dollar) dan Spending score menyebar antara 1 - 99.\n",
        "* Cluster 3 (titik data berwarna biru) adalah customer dengan Annual Income tinggi (antara 70 sampai 140 ribu dollar) dan Spending Score yang juga tinggi (antara 60-99)."
      ]
    },
    {
      "cell_type": "code",
      "execution_count": null,
      "metadata": {
        "colab": {
          "base_uri": "https://localhost:8080/",
          "height": 296
        },
        "id": "YKmDkhjPwRjg",
        "outputId": "359699df-fd30-414d-c267-9e0574d9cb28"
      },
      "outputs": [
        {
          "data": {
            "text/plain": [
              "Text(0, 0.5, 'Spending Score (1-100)')"
            ]
          },
          "execution_count": 91,
          "metadata": {},
          "output_type": "execute_result"
        },
        {
          "data": {
            "image/png": "[encoded data removed]",
            "text/plain": [
              "<Figure size 432x288 with 1 Axes>"
            ]
          },
          "metadata": {},
          "output_type": "display_data"
        }
      ],
      "source": [
        "#buat visualisasi berdasarkan plot antara Age dan Spending Score\n",
        "df4a=df[df['Cluster3']==0]\n",
        "df4b=df[df['Cluster3']==1]\n",
        "df4c=df[df['Cluster3']==2]\n",
        "\n",
        "plt.scatter(df4a['Age'],df4a['Spending Score (1-100)'])\n",
        "plt.scatter(df4b['Age'],df4b['Spending Score (1-100)'])\n",
        "plt.scatter(df4c['Age'],df4c['Spending Score (1-100)'])\n",
        "plt.xlabel('Age')\n",
        "plt.ylabel('Spending Score (1-100)')"
      ]
    },
    {
      "cell_type": "markdown",
      "metadata": {
        "id": "xTBaEdH4xTQV"
      },
      "source": [
        "Dengan plot antara Age dan Spending score diketahui bahwa cluster tersebut memiliki karakteristik tertentu yaitu\n",
        "* Cluster 1 (titik data berwarna hijau) adalah customer dengan Age menyebar antara 19 - 60 tahun dan Spending Score rendah (antara 1-40).\n",
        "* Cluster 2 (titik data berwarna oranye) adalah customer dengan Age menyebar antara 19 - 70 tahun dan Spending score menyebar antara 1 - 99.\n",
        "* Cluster 3 (titik data berwarna biru) adalah customer dengan Age antara 25 - 42 tahun dan Spending Score yang tinggi (antara 60-99).\n",
        "\n",
        "Dari plot antara Age dan Spending Score batas antar cluster tidak terlihat dengan jelas, maka dapat diketahui bahwa walaupun ketiga variabel diikutsertakan dalam analisis, cluster hanya dibagi berdasarkan variabel Annual Income dan Spending Score."
      ]
    },
    {
      "cell_type": "code",
      "execution_count": null,
      "metadata": {
        "colab": {
          "base_uri": "https://localhost:8080/",
          "height": 296
        },
        "id": "a5fduuNAtCT0",
        "outputId": "93f38e01-2643-4828-9dd5-243f6572c471"
      },
      "outputs": [
        {
          "data": {
            "text/plain": [
              "<matplotlib.axes._subplots.AxesSubplot at 0x7fabefbce6d0>"
            ]
          },
          "execution_count": 90,
          "metadata": {},
          "output_type": "execute_result"
        },
        {
          "data": {
            "image/png": "[encoded data removed]",
            "text/plain": [
              "<Figure size 432x288 with 1 Axes>"
            ]
          },
          "metadata": {},
          "output_type": "display_data"
        }
      ],
      "source": [
        "sns.countplot(data = df, x = 'Cluster3')\n",
        "#liat jumlah data tiap cluster"
      ]
    },
    {
      "cell_type": "markdown",
      "metadata": {
        "id": "_kfk7QFgtCT1"
      },
      "source": [
        "Dari barplot di atas, diketahui bahwa jumlah cluster 1 dan 3 sama yaitu 40, sedangkan cluster 1 memiliki jumlah terbanyak yaitu 120."
      ]
    },
    {
      "cell_type": "markdown",
      "metadata": {
        "id": "hAnsLtIZtCT1"
      },
      "source": [
        "### Evaluasi"
      ]
    },
    {
      "cell_type": "markdown",
      "metadata": {
        "id": "oiQEYfhntCT1"
      },
      "source": [
        "Evaluasi model yang digunakan ada tiga yaitu Silhouette Coefficient, Calinski-Harabasz Index, dan Davies-Bouldin Index"
      ]
    },
    {
      "cell_type": "code",
      "execution_count": null,
      "metadata": {
        "id": "NsdPx2iGtCT1"
      },
      "outputs": [],
      "source": [
        "from sklearn import metrics\n",
        "from sklearn.metrics import davies_bouldin_score"
      ]
    },
    {
      "cell_type": "code",
      "execution_count": null,
      "metadata": {
        "colab": {
          "base_uri": "https://localhost:8080/"
        },
        "id": "EoiRFLRZtCT2",
        "outputId": "3c6a78d9-9d24-46f8-8925-ab29d00a03b0"
      },
      "outputs": [
        {
          "data": {
            "text/plain": [
              "0.3839349967742105"
            ]
          },
          "execution_count": 86,
          "metadata": {},
          "output_type": "execute_result"
        }
      ],
      "source": [
        "metrics.silhouette_score(dfcluster, model3.labels_, metric='euclidean')"
      ]
    },
    {
      "cell_type": "markdown",
      "metadata": {
        "id": "P23NmcQUtCT2"
      },
      "source": [
        "Metrics ini membagi setiap value/pengamatan dan membandingkan dua skor yaitu nilai a (rata-rata jarak antara sebuah pengamatan dengan pengamatan lain dalam satu cluster) dan nilai b (rata-rata jarak antara sebuah pengamatan dengan pengamatan lain di cluster lain terdekat).\n",
        "\n",
        "Nilai metrics ini antara 0 - 1, semakin mendekati 1 maka cluster semakin baik.\n",
        "\n",
        "Pada model cluster pertama, diperoleh nilai silhouette sebesar 0,384 yang artinya kualitas cluster kurang baik/lemah."
      ]
    },
    {
      "cell_type": "code",
      "execution_count": null,
      "metadata": {
        "colab": {
          "base_uri": "https://localhost:8080/"
        },
        "id": "B6gNL-D6tCT2",
        "outputId": "fb59c39f-1cf3-4130-8c64-78d8f88b98fd"
      },
      "outputs": [
        {
          "data": {
            "text/plain": [
              "113.70507138642179"
            ]
          },
          "execution_count": 87,
          "metadata": {},
          "output_type": "execute_result"
        }
      ],
      "source": [
        "metrics.calinski_harabasz_score(dfcluster, model3.labels_)"
      ]
    },
    {
      "cell_type": "markdown",
      "metadata": {
        "id": "nfJ734SltCT3"
      },
      "source": [
        "Indeks Calinski-Harabasz menghitung perbandingan antara nilai\n",
        "Sum of Square between cluster sebagai separation dan nilai Sum of Square within\n",
        "cluster sebagai compactness yang dikalikan dengan faktor normalisasi.\n",
        "\n",
        "Semakin besar nilai index ini maka cluster semakin baik.\n",
        "\n",
        "Pada model cluster pertama, diperoleh nilai index Calinski-Harabasz sebesar 113,705 yang artinya kualitas cluster kurang baik/lemah."
      ]
    },
    {
      "cell_type": "code",
      "execution_count": null,
      "metadata": {
        "colab": {
          "base_uri": "https://localhost:8080/"
        },
        "id": "W9CsSyqPtCT3",
        "outputId": "70727e5b-8a94-422d-a78d-781d20519db1"
      },
      "outputs": [
        {
          "data": {
            "text/plain": [
              "0.8748062648492884"
            ]
          },
          "execution_count": 88,
          "metadata": {},
          "output_type": "execute_result"
        }
      ],
      "source": [
        "davies_bouldin_score(dfcluster, model3.labels_)"
      ]
    },
    {
      "cell_type": "markdown",
      "metadata": {
        "id": "RUbm8HQdtCT3"
      },
      "source": [
        "Indeks Davies-Bouldin menghitung rata-rata nilai 'similarity' di antara cluster. Nilai 'similarity; yaitu perbandingan jarak antar cluster dengan ukuran cluster itu sendiri.\n",
        "\n",
        "Semakin kecil (mendekati 0) nilai index ini maka cluster semakin baik.\n",
        "\n",
        "Pada model pertama didapat nilai indek Davies-Bouldin sebesar 0.875 yang tidak mendekati 0, artinya kualitas cluster kurang baik/lemah."
      ]
    },
    {
      "cell_type": "code",
      "execution_count": null,
      "metadata": {
        "id": "CWA3oWrKy0FR"
      },
      "outputs": [],
      "source": []
    }
  ],
  "metadata": {
    "colab": {
      "collapsed_sections": [
        "_ZY--GeTJVei",
        "7Jpm53xbAjhg",
        "sE4kfmCQYoYl"
      ],
      "provenance": []
    },
    "kernelspec": {
      "display_name": "Python 3",
      "name": "python3"
    },
    "language_info": {
      "name": "python"
    }
  },
  "nbformat": 4,
  "nbformat_minor": 0
}